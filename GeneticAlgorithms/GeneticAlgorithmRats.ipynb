{
 "cells": [
  {
   "cell_type": "markdown",
   "metadata": {},
   "source": [
    "## Breeding Giant Rats Using Genetic Algorithms\n",
    "\n",
    "In order to breed rats to the giant fucking size I want, I will first have to set a list of steps that I will follow in order to do this.\n",
    "\n",
    "1. Establish initial population of rats and their respective weights\n",
    "2. Evaluate the fitness by comparing mean population weight to a target weight\n",
    "3. Keep the heaviest, natty rats\n",
    "4. Have the heavy, natty rats interbreed\n",
    "5. Randomly alter weights on a few rats, simulating mutation\n",
    "6. Stop when the rats are as large as a mastiff\n",
    "\n",
    "***Table 1-1: Brown Rat Weight and Breeding Stats***\n",
    "\n",
    "| **Parameter** | **Published Values** |\n",
    "| ------------- | -------------------- |\n",
    "|Minimum weight | 200 grams |\n",
    "| Average female weight | 250 grams |\n",
    "|Average male weight | 300-350 grams |\n",
    "|Maximum weight (wild, captivity) | 600 grams, 1000 grams |\n",
    "|Number of pups per litter | 8-12|\n",
    "|Litters per year | 4 - 13 |\n",
    "|Life span (wild, captivity) | 1-3 years, 4-6 years|"
   ]
  },
  {
   "cell_type": "markdown",
   "metadata": {},
   "source": [
    "***Table 1-2: Input Assumptions for the Super-Rats***\n",
    "\n",
    "| **Variable and Value** | **Comments** |\n",
    "| -- |-- |\n",
    "|Goal = 50000 | Target weight in grams|\n",
    "|Num_Rats = 20 | Total number of adult rats the lab can support |\n",
    "|Initial_Min_Wt = 200 | Minimum weight of adult rat in initial population|\n",
    "|Initial_Max_Wt = 600 | Maximum weight of adult rat in initial population|\n",
    "|Initial_Mode_Wt = 300 | Most common adult rat weight in initial populaiton|\n",
    "|Mutate_Odds = 0.01 | Probability of mutation occuring|\n",
    "|Mutate_Min = 0.5 | Scalar on rat weight for least beneficial mutation|\n",
    "|Mutate_Max = 1.2 | Scaler on rat weight for most beneficial mutation|\n",
    "|Litter_Size = 8 | Number of pups per pair of mating rats|\n",
    "|Litters_Per_Year = 10| Number of litter per year per pair of mating rats|\n",
    "|Generation_Limit = 500| Generational cutoff to stop breeding program|"
   ]
  },
  {
   "cell_type": "code",
   "execution_count": 30,
   "metadata": {},
   "outputs": [],
   "source": [
    "import time\n",
    "import random\n",
    "import statistics\n",
    "from matplotlib import pyplot as plt\n",
    "\n",
    "#Constants\n",
    "GOAL = 50000\n",
    "NUM_RATS = 20\n",
    "INITIAL_MIN_WEIGHT = 200\n",
    "INITIAL_MAX_WEIGHT = 600\n",
    "INITIAL_MODE_WEIGHT = 300\n",
    "MUTATE_ODDS = 0.01\n",
    "MUTATE_MIN = 0.5\n",
    "MUTATE_MAX = 1.2\n",
    "LITTER_SIZE = 8\n",
    "LITTERS_PER_YEAR = 10\n",
    "GENERATION_LIMIT = 500\n",
    "\n",
    "#Ensure even number of rats for breeding pairs\n",
    "if NUM_RATS % 2 != 0:\n",
    "    NUM_RATS += 1"
   ]
  },
  {
   "cell_type": "code",
   "execution_count": 31,
   "metadata": {},
   "outputs": [],
   "source": [
    "#Defines the function that creates the initial rat population\n",
    "\n",
    "def populate(num_rats, min_wt, max_wt, mode_wt):\n",
    "    '''Initialize a population with a triangular distribution of weights.'''\n",
    "    return [int(random.triangular(min_wt, max_wt, mode_wt)) for i in range(num_rats)]\n",
    "\n",
    "#Defines a function to grade the fitness of the current generation.\n",
    "\n",
    "def fitness(population, goal):\n",
    "    '''Meaure population fitness based on an attribute mean vs. target.'''\n",
    "    ave = statistics.mean(population)\n",
    "    return ave / goal\n",
    "\n",
    "#Defines a function that will cull the undesirable population of rats\n",
    "\n",
    "def select(population, to_retain):\n",
    "    '''Cull a population to retain only a specified number of members.'''\n",
    "    sorted_population = sorted(population)\n",
    "    to_retain_by_sex = to_retain // 2\n",
    "    members_per_sex = len(sorted_population) // 2\n",
    "    females = sorted_population[:members_per_sex]\n",
    "    #Simplifying Assumption: the largest female rat is smaller than the smallest male rat\n",
    "    males = sorted_population[members_per_sex:]\n",
    "    selected_females = females[-to_retain_by_sex:]\n",
    "    selected_males = males[-to_retain_by_sex:]\n",
    "    return selected_males, selected_females\n",
    "\n",
    "#Defines the function that breeds a new generation of rats\n",
    "\n",
    "def breed(males, females, litter_size):\n",
    "    '''Crossover genes among members (weights) of a population.'''\n",
    "    random.shuffle(males)\n",
    "    random.shuffle(females)\n",
    "    children = []\n",
    "    for male, female in zip(males, females):\n",
    "        for child in range(litter_size):\n",
    "            child = random.randint(female, male)\n",
    "            children.append(child)\n",
    "    return children\n",
    "\n",
    "#Defines the function that mutates a small portion of the population\n",
    "\n",
    "def mutate(children, mutate_odds, mutate_min, mutate_max):\n",
    "    '''Randomly alter rat weight using input odds and fractional changes.'''\n",
    "    for index, rat in enumerate(children):\n",
    "        if mutate_odds >= random.random():\n",
    "            children[index] = round(rat * random.uniform(mutate_min, mutate_max))\n",
    "    return children"
   ]
  },
  {
   "cell_type": "code",
   "execution_count": 51,
   "metadata": {},
   "outputs": [],
   "source": [
    "#Defines the main function\n",
    "\n",
    "def main():\n",
    "    '''Initialize population, select, breed, mutate, and display results.'''\n",
    "    generations = 0\n",
    "    parents = populate(NUM_RATS, INITIAL_MIN_WEIGHT, INITIAL_MAX_WEIGHT, INITIAL_MODE_WEIGHT)\n",
    "    #print('Initial population weights = {}'.format(parents))\n",
    "    population_fitness = fitness(parents, GOAL)\n",
    "    print('Initial population fitness = {}'.format(population_fitness))\n",
    "    print('number to retain = {}'.format(NUM_RATS))\n",
    "    \n",
    "    ave_wt = []\n",
    "    pop_fit = []\n",
    "    \n",
    "    while population_fitness < 1 and generations < GENERATION_LIMIT:\n",
    "        selected_males, selected_females = select(parents, NUM_RATS)\n",
    "        children = breed(selected_males, selected_females, LITTER_SIZE)\n",
    "        children = mutate(children, MUTATE_ODDS, MUTATE_MIN, MUTATE_MAX)\n",
    "        parents = selected_males + selected_females + children\n",
    "        population_fitness = fitness(parents, GOAL)\n",
    "        #print('Generation {} fitness = {:.4f}'.format(generations, population_fitness))\n",
    "        ave_wt.append(int(statistics.mean(parents)))\n",
    "        pop_fit.append(population_fitness)\n",
    "        generations += 1\n",
    "    \n",
    "    plt1 = plt.figure(1)\n",
    "    x = range(len(pop_fit))\n",
    "    y = pop_fit\n",
    "    plt.plot(x, y)\n",
    "    plt.xlabel('Number of Generation')\n",
    "    plt.ylabel('Percentage to Goal')\n",
    "    \n",
    "    plt2 = plt.figure(2)\n",
    "    x2 = range(len(ave_wt))\n",
    "    y2 = ave_wt\n",
    "    plt.plot(x2, y2)\n",
    "    plt.xlabel('Number of Generation')\n",
    "    plt.ylabel('Weight of Rat')\n",
    "    plt.show()\n",
    "    \n",
    "    #print('average weight per generation = {}'.format(ave_wt))\n",
    "    #print('\\nnumber of generations = {}'.format(generations))\n",
    "    print('number of years = {}'.format(int(generations / LITTERS_PER_YEAR)))\n",
    "    "
   ]
  },
  {
   "cell_type": "code",
   "execution_count": 52,
   "metadata": {},
   "outputs": [
    {
     "name": "stdout",
     "output_type": "stream",
     "text": [
      "Initial population fitness = 0.00681\n",
      "number to retain = 20\n"
     ]
    },
    {
     "data": {
      "image/png": "[encoded data removed]",
      "text/plain": [
       "<Figure size 432x288 with 1 Axes>"
      ]
     },
     "metadata": {
      "needs_background": "light"
     },
     "output_type": "display_data"
    },
    {
     "data": {
      "image/png": "[encoded data removed]",
      "text/plain": [
       "<Figure size 432x288 with 1 Axes>"
      ]
     },
     "metadata": {
      "needs_background": "light"
     },
     "output_type": "display_data"
    },
    {
     "name": "stdout",
     "output_type": "stream",
     "text": [
      "number of years = 37\n",
      "\n",
      "Runtime for this program was 0.28366899490356445 seconds.\n"
     ]
    }
   ],
   "source": [
    "if __name__ == '__main__':\n",
    "    start_time = time.time()\n",
    "    main()\n",
    "    end_time = time.time()\n",
    "    duration = end_time - start_time\n",
    "    print('\\nRuntime for this program was {} seconds.'.format(duration))"
   ]
  }
 ],
 "metadata": {
  "kernelspec": {
   "display_name": "Python 3",
   "language": "python",
   "name": "python3"
  },
  "language_info": {
   "codemirror_mode": {
    "name": "ipython",
    "version": 3
   },
   "file_extension": ".py",
   "mimetype": "text/x-python",
   "name": "python",
   "nbconvert_exporter": "python",
   "pygments_lexer": "ipython3",
   "version": "3.8.3"
  }
 },
 "nbformat": 4,
 "nbformat_minor": 4
}
