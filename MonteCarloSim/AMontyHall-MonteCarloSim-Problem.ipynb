{
 "cells": [
  {
   "cell_type": "markdown",
   "metadata": {},
   "source": [
    "# Monty Hall in Monte Carlo\n",
    "\n",
    "In a widely-viewed gameshow at the time, Monty Hall would show contestants three closed doors and ask them to choose one. Behind one door was a valuable prize; behind the other two were goats. As soon as the contestant chose a door, Monty Hall would open one of the remaining doors to reveal a goat.The contestant was then given a final choice: switch doors or stay with the intial pick."
   ]
  },
  {
   "cell_type": "markdown",
   "metadata": {},
   "source": [
    "#### MONTE CARLO SIMULATION STEPS\n",
    "\n",
    "1. List the input variables\n",
    "2. Provide a probability distribution for each variable.\n",
    "3. Start a loop\n",
    "    1. Randomly select a value from the distributions for each input\n",
    "    2. Use the values in a deterministic calculation, which is a calculation that will always produce the same output from the same input.\n",
    "    3. Repeat a specified number of times\n",
    "4. Aggregate the results and generate statistics such as the average out-come for the calculation.\n"
   ]
  },
  {
   "cell_type": "code",
   "execution_count": 20,
   "metadata": {},
   "outputs": [
    {
     "name": "stdout",
     "output_type": "stream",
     "text": [
      "Input number of runs [default is 20000]: \n",
      "20000\n",
      "Wins with original pick = 6680\n",
      "Wins with changed pick = 13320\n",
      "Probability of winning with initial guess: 0.33\n",
      "Probability of winning with changed guess: 0.67\n",
      "\n",
      "Press Enter key to exit.\n"
     ]
    },
    {
     "data": {
      "text/plain": [
       "''"
      ]
     },
     "execution_count": 20,
     "metadata": {},
     "output_type": "execute_result"
    }
   ],
   "source": [
    "import random\n",
    "\n",
    "def user_prompt(prompt, default = None):\n",
    "    '''Allow use of default values in input.'''\n",
    "    prompt = '{} [default is {}]: '.format(prompt, default)\n",
    "    response = input(prompt)\n",
    "    if not response and default:\n",
    "        return default\n",
    "    else:\n",
    "        return response\n",
    "\n",
    "num_runs = int(user_prompt('Input number of runs', '20000'))\n",
    "print(num_runs)\n",
    "\n",
    "#assign counters for ways to win\n",
    "first_choice_wins = 0\n",
    "pick_change_wins = 0\n",
    "doors = ['a', 'b', 'c']\n",
    "\n",
    "for i in range(num_runs):\n",
    "    winner = random.choice(doors)\n",
    "    pick = random.choice(doors)\n",
    "\n",
    "    if pick == winner:\n",
    "        first_choice_wins += 1\n",
    "    else:\n",
    "        pick_change_wins += 1\n",
    "\n",
    "print(f'Wins with original pick = {first_choice_wins}')\n",
    "print(f'Wins with changed pick = {pick_change_wins}')\n",
    "print(f'Probability of winning with initial guess: {first_choice_wins/num_runs :.2f}')\n",
    "print(f'Probability of winning with changed guess: {pick_change_wins/num_runs :.2f}')\n",
    "\n",
    "input('\\nPress Enter key to exit.')"
   ]
  },
  {
   "cell_type": "markdown",
   "metadata": {},
   "source": [
    "It is clear from this simulation that the contestant has a drastically higher chance of winning with the latter choice. It makes the most statistical sense to change your guess after the goat has been revealed. Even though it may be counter-intuitive. If anything you would be led to believe that it would be 50/50 between the two doors that are not revealed to be goats."
   ]
  },
  {
   "cell_type": "code",
   "execution_count": null,
   "metadata": {},
   "outputs": [],
   "source": []
  }
 ],
 "metadata": {
  "kernelspec": {
   "display_name": "Python 3",
   "language": "python",
   "name": "python3"
  },
  "language_info": {
   "codemirror_mode": {
    "name": "ipython",
    "version": 3
   },
   "file_extension": ".py",
   "mimetype": "text/x-python",
   "name": "python",
   "nbconvert_exporter": "python",
   "pygments_lexer": "ipython3",
   "version": "3.8.3"
  }
 },
 "nbformat": 4,
 "nbformat_minor": 4
}
